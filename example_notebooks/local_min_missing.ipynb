{
 "cells": [
  {
   "cell_type": "markdown",
   "metadata": {},
   "source": [
    "# Robust-NTF Applied to Missing Data\n",
    "\n",
    "Here, we generate a synthetic low-rank 3-dimensional tensor from known signals. Some of the data is removed (set to NaN) mirroring hyperspectral autofluorescence image cubes. The data is processed"
   ]
  },
  {
   "cell_type": "markdown",
   "metadata": {},
   "source": [
    "## Setup"
   ]
  },
  {
   "source": [
    "from decimal import Decimal\n",
    "import torch\n",
    "import numpy as np\n",
    "import tensorly as tl\n",
    "import matplotlib.pyplot as plt\n",
    "import sys\n",
    "from torch.nn.functional import normalize\n",
    "from scipy import signal\n",
    "from scipy.stats import gamma\n",
    "from tensorly.kruskal_tensor import kruskal_to_tensor\n",
    "from tensorly.decomposition.candecomp_parafac import non_negative_parafac\n",
    "from tensorly.tenalg.outer_product import outer\n",
    "\n",
    "sys.path.append(\"..\")\n",
    "from robust_ntf.robust_ntf import RntfConfig, RobustNTF, RntfStats\n",
    "\n",
    "# Use the GPU at fp64 by default:\n",
    "torch.set_default_tensor_type(torch.cuda.DoubleTensor)\n",
    "\n",
    "# Make TensorLy use PyTorch:\n",
    "tl.set_backend('pytorch')\n",
    "\n",
    "# Set RNG seeds:\n",
    "torch.manual_seed(33)\n",
    "np.random.seed(33)\n",
    "\n",
    "# Set an epsilon to protect against zeros:\n",
    "eps = 1e-6\n",
    "\n",
    "def fexp(number):\n",
    "    (sign, digits, exponent) = Decimal(number).as_tuple()\n",
    "    return len(digits) + exponent - 1\n",
    "\n",
    "def fman(number):\n",
    "    return Decimal(number).scaleb(-fexp(number)).normalize()"
   ],
   "cell_type": "code",
   "outputs": [],
   "metadata": {},
   "execution_count": null
  },
  {
   "cell_type": "markdown",
   "metadata": {},
   "source": [
    "## Part 1: Generate synthetic tensor\n",
    "\n",
    "### Generate ground truth factors:\n",
    "\n",
    "Over here, we generate ground truth factor matrices to generate a rank-3 synthetic tensor with. They include,\n",
    "\n",
    "* A Gaussian modulated sinusoid and take its real and imaginary parts, and its envelope to be the ground truth factors.\n",
    "* Three different chirp signals.\n",
    "* Three different Gamma PDFs."
   ]
  },
  {
   "cell_type": "code",
   "execution_count": null,
   "metadata": {},
   "outputs": [],
   "source": [
    "#######################\n",
    "## Mode-1 generation ##\n",
    "#######################\n",
    "\n",
    "# Sample 50 points:\n",
    "mode1_support = np.linspace(-1, 1, 2*25, endpoint=False)\n",
    "\n",
    "# Generate signal and plot:\n",
    "x1, x2, x3 = signal.gausspulse(mode1_support, fc=3,\n",
    "                               retquad=True, retenv=True)\n",
    "x1 = 2 * np.abs(x1)\n",
    "x2 = 2 * np.abs(x2)\n",
    "x3 = 2 * np.abs(x3)\n",
    "\n",
    "#######################\n",
    "## Mode-2 generation ##\n",
    "#######################\n",
    "\n",
    "mode2_support = np.linspace(-1, 1, 96, endpoint=False)\n",
    "y1 = signal.chirp(mode2_support, f0=4, t1=-0.5, f1=4)\n",
    "y2 = signal.chirp(mode2_support, f0=2, t1=0.5, f1=3)\n",
    "y3 = signal.chirp(mode2_support, f0=1, t1=0.1, f1=2)\n",
    "\n",
    "y1 = y1 - y1.min()\n",
    "y2 = y2 - y2.min()\n",
    "y3 = y3 - y3.min()\n",
    "\n",
    "#######################\n",
    "## Mode-3 generation ##\n",
    "#######################\n",
    "\n",
    "mode3_support = np.linspace(0, 10, 20)\n",
    "\n",
    "z1 = gamma(7).pdf(mode3_support)\n",
    "z2 = gamma(2).pdf(mode3_support)\n",
    "z3 = gamma(4).pdf(mode3_support)"
   ]
  },
  {
   "cell_type": "markdown",
   "metadata": {},
   "source": [
    "### Plot ground truth factors:"
   ]
  },
  {
   "source": [
    "# Set up figure size:\n",
    "fig = plt.figure(figsize=(15,8))\n",
    "\n",
    "# Plot factors:\n",
    "plt.subplot(2,2,1)\n",
    "plt.plot(mode1_support, x1,\n",
    "         mode1_support, x2,\n",
    "         mode1_support, x3)\n",
    "plt.gca().set_title('Mode-1 factors')\n",
    "\n",
    "plt.subplot(2,2,2)\n",
    "plt.plot(mode2_support, y1,\n",
    "         mode2_support, y2,\n",
    "         mode2_support, y3)\n",
    "plt.gca().set_title('Mode-2 factors')\n",
    "\n",
    "plt.subplot(2,2,3)\n",
    "plt.plot(mode3_support, z1,\n",
    "         mode3_support, z2,\n",
    "         mode3_support, z3)\n",
    "plt.gca().set_title('Mode-3 factors')"
   ],
   "cell_type": "code",
   "outputs": [],
   "metadata": {},
   "execution_count": null
  },
  {
   "cell_type": "markdown",
   "metadata": {},
   "source": [
    "### Cast factors to PyTorch and/or make positive:"
   ]
  },
  {
   "source": [
    "# Mode-1:\n",
    "X = np.array([x1, x2, x3])\n",
    "X = torch.from_numpy(X).cuda() + eps\n",
    "\n",
    "# Mode-2:\n",
    "Y = np.array([y1, y2, y3])\n",
    "Y = torch.from_numpy(Y).cuda() + eps\n",
    "\n",
    "# Mode-3:\n",
    "Z = np.array([z1, z2, z3])\n",
    "Z = torch.from_numpy(Z).cuda() + eps"
   ],
   "cell_type": "code",
   "outputs": [],
   "metadata": {},
   "execution_count": null
  },
  {
   "cell_type": "markdown",
   "metadata": {},
   "source": [
    "### Construct ground truth tensor to factorize:"
   ]
  },
  {
   "source": [
    "# Construct Kruskal tensor in TensorLy format:\n",
    "ktens = (None, [X.t(), Y.t(), Z.t()])\n",
    "\n",
    "# Construct dense tensor:\n",
    "data = kruskal_to_tensor(ktens)"
   ],
   "cell_type": "code",
   "outputs": [],
   "metadata": {},
   "execution_count": null
  },
  {
   "cell_type": "code",
   "execution_count": null,
   "metadata": {},
   "outputs": [],
   "source": [
    "for i in range(data.shape[-1]):\n",
    "    data[-int(1.5*i)-1:, :, i+1:] = np.nan\n",
    "np.isnan(data.cpu().numpy()).sum() / data.cpu().numpy().size"
   ]
  },
  {
   "cell_type": "markdown",
   "metadata": {},
   "source": [
    "### Visualize some slices of the tensor in false color:"
   ]
  },
  {
   "source": [
    "fig = plt.figure(figsize=(15,8))\n",
    "\n",
    "# XY\n",
    "plt.subplot(2,2,1)\n",
    "XY = data[:, :, [0, 5, 10]].data.cpu().numpy()\n",
    "XY = XY / np.nanmax(XY)\n",
    "XY[np.isnan(XY)] = 1.0\n",
    "plt.imshow(XY)\n",
    "\n",
    "# XZ\n",
    "plt.subplot(2,2,2)\n",
    "XZ = data[:, [0, 5, 10], :].data.cpu().numpy()\n",
    "XZ = XZ.transpose([0, 2, 1])\n",
    "XZ = XZ / np.nanmax(XZ)\n",
    "XZ[np.isnan(XZ)] = 1.0\n",
    "plt.imshow(XZ)\n",
    "\n",
    "# ZY\n",
    "plt.subplot(2,2,3)\n",
    "ZY = data[[10, 15, 20], :, :].data.cpu().numpy()\n",
    "ZY = ZY.transpose([2, 1, 0])\n",
    "ZY = ZY / np.nanmax(ZY)\n",
    "ZY[np.isnan(ZY)] = 1.0\n",
    "plt.imshow(ZY)"
   ],
   "cell_type": "code",
   "outputs": [],
   "metadata": {
    "tags": []
   },
   "execution_count": null
  },
  {
   "cell_type": "markdown",
   "metadata": {},
   "source": [
    "## Part 2: Compare methods\n",
    "\n",
    "Run the cells below with error tolerance 1e-2 and then 1e-3 and compare."
   ]
  },
  {
   "source": [
    "ERROR_TOLERANCE = 1e-3\n",
    "\n",
    "cfg = RntfConfig(3, 2, 0.1, ERROR_TOLERANCE, max_iter=200000, print_every=100, save_every=100, save_folder=\"./out\")\n",
    "rntf = RobustNTF(cfg)\n",
    "rntf.run(data)\n",
    "rntf_01_factors = rntf.matrices\n",
    "rntf_01_outlier = rntf.outlier\n",
    "vals = rntf.stats"
   ],
   "cell_type": "code",
   "outputs": [],
   "metadata": {
    "tags": []
   },
   "execution_count": null
  },
  {
   "cell_type": "markdown",
   "metadata": {},
   "source": [
    "## Visualize objective, error, and reconstruction accuracy statistics.\n",
    "\n",
    "At 1e-3 local minima should be visible that dip below 1e-2, which would cause early stopping at 1e-2. Red dots indicate local minima in the relative error change curve. This is intended to be a demonstration of early stopping given an unsuitable choice of error tolerance as a means of identifying convergence. Accuracy metrics (L2 and L_inf) are also displayed for reference and comparison."
   ]
  },
  {
   "cell_type": "code",
   "execution_count": null,
   "metadata": {
    "tags": []
   },
   "outputs": [],
   "source": [
    "fig = plt.figure(figsize=(8,15))\n",
    "\n",
    "inds = list(range(len(vals[\"error\"])))\n",
    "x_start = np.log10(inds[1]) + 0.02\n",
    "x_end = np.log10(inds[-1]) - 0.02\n",
    "\n",
    "plt.subplot(4,1,1)\n",
    "plt.ylim(top=5, bottom=-20)\n",
    "plt.xlim(left=0, right=3.5)\n",
    "obj = vals[RntfStats.OBJ].to_numpy()\n",
    "plt.plot(np.log10(inds), np.log10(obj))\n",
    "plt.annotate(\"Objective\", xy=(x_start, np.log10(obj[1])+1), horizontalalignment=\"left\")\n",
    "fit = vals[RntfStats.FIT].to_numpy()\n",
    "plt.plot(np.log10(inds), np.log10(fit), linestyle=\"dashed\", color=\"gray\")\n",
    "plt.annotate(\"Fitness\\n(Beta Divergence)\", xy=(x_start, np.log10(fit[1])-1), horizontalalignment=\"left\", verticalalignment=\"top\")\n",
    "reg = vals[RntfStats.REG].to_numpy()\n",
    "plt.plot(np.log10(inds), np.log10(reg), linestyle=\":\", color=\"gray\")\n",
    "plt.annotate(\"Regularization\\nTerm\\n($L_{2,1}$ Norm)\", xy=(x_end-0.2, np.log10(reg[-1])-0.5), horizontalalignment=\"left\", verticalalignment=\"top\")\n",
    "plt.title(\"Objective Function\")\n",
    "sreg = signal.savgol_filter(np.log10(reg), window_length=501, polyorder=3)\n",
    "dreg = np.log10(np.diff(np.diff(sreg)))\n",
    "peak = np.nanargmax(dreg)\n",
    "x = np.log10(inds)[peak]\n",
    "plt.plot([x, x], plt.ylim(), \"k:\")\n",
    "c_x_pos = np.log10(peak) + 0.03\n",
    "plt.annotate(\"Convergence\", xy=(c_x_pos, 2), horizontalalignment=\"left\", verticalalignment=\"center\")\n",
    "\n",
    "plt.subplot(4,1,2)\n",
    "plt.ylim(top=0.5, bottom=-3.5)\n",
    "plt.xlim(left=0, right=3.5)\n",
    "err = vals[RntfStats.ERR].to_numpy()\n",
    "plt.plot(np.log10(inds), np.log10(err))\n",
    "peaks = signal.find_peaks(-err)[0].tolist()\n",
    "plt.plot(np.log10(inds)[peaks], np.log10(err)[peaks], \"r.\")\n",
    "plt.plot([x, x], plt.ylim(), \"k:\")\n",
    "plt.annotate(\"Convergence\", xy=(c_x_pos, 0), horizontalalignment=\"left\", verticalalignment=\"center\")\n",
    "plt.plot(plt.xlim(), [-2, -2], \"k:\")\n",
    "plt.annotate(\"Early stopping below this line\\nif tolerance set to $0.01$\", xy=(0.03, -2.1), horizontalalignment=\"left\", verticalalignment=\"top\")\n",
    "plt.title(\"Relative Change in Objective Function (Error)\")\n",
    "\n",
    "plt.subplot(4,1,3)\n",
    "plt.xlim(left=0, right=3.5)\n",
    "L2_acc = vals[RntfStats.L2_ACC].to_numpy()\n",
    "plt.plot(np.log10(inds[0:]), np.log10(L2_acc[0:]))\n",
    "plt.title(\"Accuracy ($L_{2}$ Norm)\")\n",
    "\n",
    "plt.subplot(4,1,4)\n",
    "plt.xlim(left=0, right=3.5)\n",
    "Linf_acc = vals[RntfStats.LINF_ACC].to_numpy()\n",
    "plt.plot(np.log10(inds[0:]), np.log10(Linf_acc[0:]))\n",
    "plt.title(\"Accuracy ($L_{inf}$ Norm)\")\n",
    "\n",
    "fig.tight_layout()"
   ]
  },
  {
   "source": [
    "## Run early stopping."
   ],
   "cell_type": "markdown",
   "metadata": {}
  },
  {
   "cell_type": "code",
   "execution_count": null,
   "metadata": {
    "tags": []
   },
   "outputs": [],
   "source": [
    "ERROR_TOLERANCE = 1e-2\n",
    "\n",
    "cfg2 = RntfConfig(3, 2, 0.1, ERROR_TOLERANCE, max_iter=200000, print_every=100, save_every=100, save_folder=\"./out\")\n",
    "rntf2 = RobustNTF(cfg2)\n",
    "rntf2.run(data)\n",
    "rntf2_01_factors = rntf2.matrices\n",
    "rntf2_01_outlier = rntf2.outlier\n",
    "vals2 = rntf2.stats"
   ]
  },
  {
   "cell_type": "markdown",
   "metadata": {},
   "source": [
    "## Plot some factors:\n",
    "Here, mode-3 factors for NTF and rNTF are plotted. There are considerable differences between 1e-2 and 1e-3."
   ]
  },
  {
   "source": [
    "# Set up figure size:\n",
    "fig = plt.figure(figsize=(15, 8))\n",
    "\n",
    "y1 = normalize(rntf_01_factors[2], dim=0).data.cpu().numpy()\n",
    "h1 = plt.plot(y1, color=\"gray\", linestyle=\":\")\n",
    "y2 = normalize(rntf2_01_factors[2], dim=0).data.cpu().numpy()\n",
    "h2 = plt.plot(y2, color=\"k\")\n",
    "plt.gca().set_title('Mode-3 Results')\n",
    "plt.legend(handles=[h1[0], h2[0]], labels=[\"Tolerance = $10^{-3}$\", \"Tolerance = $10^{-2}$\"])"
   ],
   "cell_type": "code",
   "outputs": [],
   "metadata": {
    "tags": []
   },
   "execution_count": null
  },
  {
   "cell_type": "markdown",
   "metadata": {},
   "source": [
    "## Visualize outliers\n",
    "\n",
    "At 1e-2 the outliers are significantly larger than at 1e-3."
   ]
  },
  {
   "cell_type": "code",
   "execution_count": null,
   "metadata": {
    "tags": []
   },
   "outputs": [],
   "source": [
    "## Plot results:\n",
    "# Set up figure size:\n",
    "fig = plt.figure(figsize=(15, 15))\n",
    "sl = 25\n",
    "tr = [0, 2, 1]\n",
    "eps = np.nextafter(0, 1)\n",
    "\n",
    "# Plot rNTF reconstruction:\n",
    "plt.subplot(1,2,1)\n",
    "XZr = rntf_01_outlier[:, sl, :].data.cpu().numpy()\n",
    "m = np.nanmax(XZr)\n",
    "XZr = np.log10(XZr) + 20\n",
    "XZr[np.isnan(XZr) | np.isinf(XZr)] = 0.0\n",
    "plt.imshow(XZr)\n",
    "m_str = \"${:.2f}\\\\times10^{{{:d}}}$\".format(fman(m), fexp(m))\n",
    "plt.gca().set_title('Tolerance = {:s} Reconstruction\\nMax = {:s}'.format(\"$10^{-3}$\", m_str))\n",
    "plt.clim(0, 20)\n",
    "\n",
    "# Plot rNTF reconstruction:\n",
    "plt.subplot(1,2,2)\n",
    "XZr = rntf2_01_outlier[:, sl, :].data.cpu().numpy()\n",
    "m = np.nanmax(XZr)\n",
    "XZr = np.log10(XZr) + 20\n",
    "XZr[np.isnan(XZr) | np.isinf(XZr)] = 0.0\n",
    "plt.imshow(XZr)\n",
    "m_str = \"${:.2f}\\\\times10^{{{:d}}}$\".format(fman(m), fexp(m))\n",
    "plt.gca().set_title('Tolerance = {:s} Reconstruction\\nMax = {:s}'.format(\"$10^{-2}$\", m_str))\n",
    "plt.clim(0, 20)"
   ]
  },
  {
   "cell_type": "code",
   "execution_count": null,
   "metadata": {},
   "outputs": [],
   "source": []
  }
 ],
 "metadata": {
  "kernelspec": {
   "display_name": "Python 3",
   "language": "python",
   "name": "python3"
  },
  "language_info": {
   "codemirror_mode": {
    "name": "ipython",
    "version": 3
   },
   "file_extension": ".py",
   "mimetype": "text/x-python",
   "name": "python",
   "nbconvert_exporter": "python",
   "pygments_lexer": "ipython3",
   "version": "3.7.4-final"
  }
 },
 "nbformat": 4,
 "nbformat_minor": 2
}